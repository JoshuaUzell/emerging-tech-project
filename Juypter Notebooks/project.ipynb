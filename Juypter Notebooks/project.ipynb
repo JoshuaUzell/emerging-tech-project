{
 "cells": [
  {
   "cell_type": "markdown",
   "metadata": {},
   "source": [
    "# Deutsch's Algorithm \n",
    "### By Joshua Uzell"
   ]
  },
  {
   "cell_type": "markdown",
   "metadata": {},
   "source": [
    "In the world of quantum computing, there are many different types of problems. One of these is called the parity problem (also referred to as Deutsch's Problem) **[4]** (https://learning.quantum.ibm.com/course/fundamentals-of-quantum-algorithms/quantum-query-algorithms). Whilst on the lower end of difficulty for problems in quantum computing, it's still an interesting enough challenge that evolves around the output of bits, and to see whether we get a constant output or a random balanced output from a function. We can solve this issue using the power of Deutsch's Algorithm. "
   ]
  },
  {
   "cell_type": "markdown",
   "metadata": {},
   "source": [
    "We'll first give a brief overview of quantum computing so we can understand why it's relevant. Then we'll talk about the Deutsch Algorithm, going over the problem it's trying to solve, the solution it provides and then we'll implement that solution using Qiskit by creating a quantum circuit. Lastly we'll run the circuit and see the results before summurizing with our conclusion. Note that the code was created with the aid of Open A.I's ChatGPT with comments and explainations written by myself."
   ]
  },
  {
   "cell_type": "markdown",
   "metadata": {},
   "source": [
    "## Brief overview of quantum computing"
   ]
  },
  {
   "cell_type": "markdown",
   "metadata": {},
   "source": [
    "According to IBM **[1]**, classical computation (everyday computation on computers) is becoming trickier to use for solving specific complex problems due to using old transistors. Supercomputers have been used to try and solve these issues but even then, we will still reach a limit when it comes to very complex issues due to the many different things that can interact with eachother.**[1]** (https://www.ibm.com/topics/quantum-computing)\n",
    "\n",
    "This is why as IBM points out **[1]**, the idea behind quantum computing is to solve those incredibly complicated problems that can't be solved by classical means by using the laws of quantum mechanics with quantum computers.**[1]** We'll look at the benefits of quantum computing using an algorithmic framework known as 'The Query Model of Computation'."
   ]
  },
  {
   "cell_type": "markdown",
   "metadata": {},
   "source": [
    "### The Query Model of Computation"
   ]
  },
  {
   "cell_type": "markdown",
   "metadata": {},
   "source": [
    "It's a simple framework that according to IBM **[4]** isn't very accurate in terms of showing off the actual types of computational problems that are usually worked on, but at the very least, it is great for showcasing the potential of quantum computers in terms of solving difficult problems that classical computers cannot. **[4]** "
   ]
  },
  {
   "cell_type": "markdown",
   "metadata": {},
   "source": [
    "Usually with a given problem, at a high level we have an input (in the format of a binary string) that is provided directly to some sort of computation that processes the input and then delivers an output at the end as shown in the figure below **[4]**"
   ]
  },
  {
   "attachments": {
    "image.png": {
     "image/png": "[encoded data removed]"
    }
   },
   "cell_type": "markdown",
   "metadata": {},
   "source": [
    "![image.png](attachment:image.png)"
   ]
  },
  {
   "cell_type": "markdown",
   "metadata": {},
   "source": [
    "<h6>A model of a computational process found via <a href=\"https://learning.quantum.ibm.com/course/fundamentals-of-quantum-algorithms/quantum-query-algorithms#the-query-model-of-computation\">https://learning.quantum.ibm.com/course/fundamentals-of-quantum-algorithms/quantum-query-algorithms#the-query-model-of-computation</a> [7], n.d.</h6>"
   ]
  },
  {
   "cell_type": "markdown",
   "metadata": {},
   "source": [
    "However when dealing with the query model, things work slightly differently in that the input is not delivered directly to the computation but rather the computation has to make queries (ask questions) to something called an oracle (also referred to as a black-box) which hides most of the input but still provides access to it. For the query model, the input is represented as a function where the inner workings of it are unknown so only questions may be asked in order to access it. **[4]** "
   ]
  },
  {
   "cell_type": "markdown",
   "metadata": {},
   "source": [
    "//**NEED TO TALK ABOUT HERE HOW WE WILL MEASURE THE EFFICIENCY OF A QUANTUM ALGORITHM**"
   ]
  },
  {
   "cell_type": "markdown",
   "metadata": {},
   "source": [
    "This is where Deutsch's algorithm comes in."
   ]
  },
  {
   "cell_type": "markdown",
   "metadata": {},
   "source": [
    "## Problem Definition being faced before using Deutsch's Algorithm"
   ]
  },
  {
   "cell_type": "markdown",
   "metadata": {},
   "source": [
    "**(NEED TO TWEAK THIS PARAGRAPH)** This algorithm was important because of its ability to solve Deutsch's Problem. This problem was based on the idea of a 'black-box' or an oracle which was a function that took in an input and based on the operation that it performed, returned an output of either 0 or 1 that would confirm if the function was constant or balanced. **[2]** (https://fullstackquantumcomputation.tech/blog/deutsch-algorithm/) "
   ]
  },
  {
   "cell_type": "markdown",
   "metadata": {},
   "source": [
    "Constant meant that the same bit (1 or 0) would occur after every time the oracle performed a task no matter the input. Balanced on the otherhand meant that if you were to put in 0 as an input, you would get 1 as an output and vice versa. The issue with this (as stated by the term 'black-box') was that it was unclear as to how the oracle performed it's tasks. **[2]** Going the classical route of solving this problem would require you to check the function twice. **[2]**"
   ]
  },
  {
   "cell_type": "markdown",
   "metadata": {},
   "source": [
    "This problem was first proposed in a paper by David Deutsch in which he argues for the use of quantum mechanics within computers to solve more complex problems such as the Deutsch Problem.\n",
    "Whilst the algorithm was a great stepping stone for quantum mechanics, it was only used as a proof of concept for solving the problem with a single input."
   ]
  },
  {
   "cell_type": "markdown",
   "metadata": {},
   "source": [
    "In 1992, Deutsch alongside Richard Jozsa would propose an improved version known as the Deutsch-Jozsa algorithm, which could take in multiple inputs instead of just one, showcasing the potential of quantum problem solving. However, for this notebook we will focus on how the problem was first solved with the original Deutsch's Algorithm."
   ]
  },
  {
   "cell_type": "markdown",
   "metadata": {},
   "source": [
    "## Solution using Deutsch's Algorithm"
   ]
  },
  {
   "cell_type": "markdown",
   "metadata": {},
   "source": [
    "Now that we know the problem, let's discuss how this first alogrithm solved it. First we will need to find a way of knowning if the 'black-box' function returns either a constant or balanced input. We will check this using what's known as Qubits in quantum computing. They act similarly to classical bits in that they're an important part of how information is represented in quantum computing. **[6]** (https://www.techtarget.com/whatis/definition/qubit) They also have certain attributes that make them unique from classical bits. The main attribute that will be important for solving the Deutsch Problem is called superposition. **[6]** Imagine you have a classical bit but it can be only be in a state of '1' or '0'. Well that's the benefit of using a qubit over a normal classical bit. It has the ability to be in multiple states at the same time until the qubit is being looked at, which causes the qubit to stay in just one state. **[5]** (https://medium.com/@cherkashin/quantum-superposition-decision-making-6a5b49d0286) This is very efficient for handling large quantities of information at any given time which is something we'll need for solving this problem."
   ]
  },
  {
   "cell_type": "markdown",
   "metadata": {},
   "source": [
    "To put a qubit into a state of superposition, we'll apply some Hadamard gates. According to IBM **[4]** Since the intial state of the qubits will be ∣1⟩∣0⟩, the Hadamard gates will convert this intial state to the following: "
   ]
  },
  {
   "cell_type": "markdown",
   "metadata": {},
   "source": [
    "$|\\pi_1\\rangle = |-\\rangle|+\\rangle = \\frac{1}{2}(|0\\rangle - |1\\rangle)|0\\rangle + \\frac{1}{2}(|0\\rangle - |1\\rangle)|1\\rangle.$"
   ]
  },
  {
   "cell_type": "markdown",
   "metadata": {},
   "source": [
    "Now that our qubits are in a state of superposition, we will now apply our oracle (represented as $U_f$) to the problem."
   ]
  },
  {
   "cell_type": "markdown",
   "metadata": {},
   "source": [
    "# References"
   ]
  },
  {
   "cell_type": "markdown",
   "metadata": {},
   "source": [
    "[1] IBM, (no date). What is Quantum Computing? Available at https://www.ibm.com/topics/quantum-computing. Accessed on 9th November 2023."
   ]
  },
  {
   "cell_type": "markdown",
   "metadata": {},
   "source": [
    "[2] Onofre, V., 2021. The Deutsch Algorithm, Full-Stack Quantum Computation. Available at: https://fullstackquantumcomputation.tech/blog/deutsch-algorithm/ Accessed on 10th December 2023."
   ]
  },
  {
   "cell_type": "markdown",
   "metadata": {},
   "source": [
    "[3] NEED TO INSERT A NEW REFERENCE HERE"
   ]
  },
  {
   "cell_type": "markdown",
   "metadata": {},
   "source": [
    "[4] John, W., (no date) Fundamentals of quantum algorithms, IBM Quantum Learning. Available at: https://learning.quantum.ibm.com/course/fundamentals-of-quantum-algorithms/quantum-query-algorithms Accessed on 1st December 2023."
   ]
  },
  {
   "cell_type": "markdown",
   "metadata": {},
   "source": [
    "[5] Cherkashin, P., 2023. Quantum Superposition & Decision-Making, Medium. Available at: https://medium.com/@cherkashin/quantum-superposition-decision-making-6a5b49d0286 Accessed on 7th December 2023."
   ]
  },
  {
   "cell_type": "markdown",
   "metadata": {},
   "source": [
    "[6] Robert, S., 2023. qubit (short for quantum bit), TechTarget. Available at: https://www.techtarget.com/whatis/definition/qubit Accessed on 7th December 2023."
   ]
  },
  {
   "cell_type": "markdown",
   "metadata": {},
   "source": [
    "[7] Unknown., (no date) A model of a computational process. Available at: https://learning.quantum.ibm.com/course/fundamentals-of-quantum-algorithms/quantum-query-algorithms#the-query-model-of-computation Accessed on 14th December 2023."
   ]
  }
 ],
 "metadata": {
  "kernelspec": {
   "display_name": "Python 3",
   "language": "python",
   "name": "python3"
  },
  "language_info": {
   "codemirror_mode": {
    "name": "ipython",
    "version": 3
   },
   "file_extension": ".py",
   "mimetype": "text/x-python",
   "name": "python",
   "nbconvert_exporter": "python",
   "pygments_lexer": "ipython3",
   "version": "3.11.2"
  },
  "orig_nbformat": 4
 },
 "nbformat": 4,
 "nbformat_minor": 2
}
