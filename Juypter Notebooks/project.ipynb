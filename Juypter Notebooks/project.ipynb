{
 "cells": [
  {
   "cell_type": "markdown",
   "metadata": {},
   "source": [
    "# Deutsch's Algorithm \n",
    "### By Joshua Uzell"
   ]
  },
  {
   "cell_type": "markdown",
   "metadata": {},
   "source": [
    "In the world of quantum computing, there are many different types of problems. One of these is called the parity problem. Whilst on the lower end of difficulty for problems in quantum computing, it's still an interesting enough challenge that evolves around the output of bits, and to see whether we get a constant output or a random balanced output from a function. We can solve this issue using the power of Deutsch's Algorithm. "
   ]
  },
  {
   "cell_type": "markdown",
   "metadata": {},
   "source": [
    "We'll first give a brief overview of quantum computing so we can understand why it's relevant. Then we'll compare quantum computing against classical and then we'll talk about the Deutsch Algorithm, going over the problem it's trying to solve, the solution it provides and then we'll implement that solution using Qiskit by creating a quantum circuit. Lastly we'll run the circuit and see the results before summurizing with our conclusion. Note that the code was created with the aid of Open A.I's ChatGPT with comments and explainations written by myself."
   ]
  }
 ],
 "metadata": {
  "kernelspec": {
   "display_name": "Python 3",
   "language": "python",
   "name": "python3"
  },
  "language_info": {
   "codemirror_mode": {
    "name": "ipython",
    "version": 3
   },
   "file_extension": ".py",
   "mimetype": "text/x-python",
   "name": "python",
   "nbconvert_exporter": "python",
   "pygments_lexer": "ipython3",
   "version": "3.11.2"
  },
  "orig_nbformat": 4
 },
 "nbformat": 4,
 "nbformat_minor": 2
}
