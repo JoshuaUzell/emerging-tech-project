{
 "cells": [
  {
   "cell_type": "markdown",
   "metadata": {},
   "source": [
    "# Deutsch's Algorithm \n",
    "### By Joshua Uzell"
   ]
  },
  {
   "cell_type": "markdown",
   "metadata": {},
   "source": [
    "In the world of quantum computing, there are many different types of problems. One of these is called the parity problem (also referred to as Deutsch's Problem) **[4]** (https://learning.quantum.ibm.com/course/fundamentals-of-quantum-algorithms/quantum-query-algorithms). Whilst on the lower end of difficulty for problems in quantum computing, it's still an interesting enough challenge that evolves around the output of bits, and to see whether we get a constant output or a random balanced output from a function. We can solve this issue using the power of Deutsch's Algorithm. "
   ]
  },
  {
   "cell_type": "markdown",
   "metadata": {},
   "source": [
    "We'll first give a brief overview of quantum computing so we can understand why it's relevant. Then we'll talk about the Deutsch Algorithm, going over the problem it's trying to solve, the solution it provides and then we'll implement that solution using Qiskit by creating a quantum circuit. Lastly we'll run the circuit and see the results before summurizing with our conclusion. Note that the code was created with the aid of Open A.I's ChatGPT with comments and explainations written by myself."
   ]
  },
  {
   "cell_type": "markdown",
   "metadata": {},
   "source": [
    "## Brief overview of quantum computing"
   ]
  },
  {
   "cell_type": "markdown",
   "metadata": {},
   "source": [
    "According to IBM **[1]**, classical computation (everyday computation on computers) is becoming trickier to use for solving specific complex problems due to using old transistors. Supercomputers have been used to try and solve these issues but even then, we will still reach a limit when it comes to very complex issues due to the many different things that can interact with eachother.**[1]** (https://www.ibm.com/topics/quantum-computing)\n",
    "\n",
    "This is why as IBM points out **[1]**, the idea behind quantum computing is to solve those incredibly complicated problems that can't be solved by classical means by using the laws of quantum mechanics.**[1]** This is where the quantum alogrithm known as Deutsch's algorithm comes in."
   ]
  },
  {
   "cell_type": "markdown",
   "metadata": {},
   "source": [
    "## Problem Definition being faced before using Deutsch's Algorithm"
   ]
  },
  {
   "cell_type": "markdown",
   "metadata": {},
   "source": [
    "This algorithm was important because of its ability to solve Deutsch's Problem. This problem was based on the idea of a 'black-box' which was a function that took in a single input and could return an output of either 0 or 1. **[2]** The issue with this (as stated by the term 'black-box') was just how unclear it was in terms of which output would be returned. (https://royalsocietypublishing.org/doi/pdf/10.1098/rspa.1985.0070)"
   ]
  },
  {
   "cell_type": "markdown",
   "metadata": {},
   "source": [
    "This was because the function would either be constant (in that it returned the same bit (1 or 0) each time no matter the input) or balanced (in that if you were to put in 0 as an input, you would get 1 as an output and vice versa). The challenge here was that if you were to just go with the classical route of solving this problem, you could only use this function once in order to check whether it was constant or balanced. **[2]** "
   ]
  },
  {
   "cell_type": "markdown",
   "metadata": {},
   "source": [
    "This issue was first proposed in a paper by David Deutsch **[2]** in which he argues for the use of quantum mechanics within computers to solve more complex problems such as the Deutsch Problem. **[2]**\n",
    "Whilst the algorithm was a great stepping stone for quantum mechanics, it was only used as a proof of concept for solving the problem with a single input."
   ]
  },
  {
   "cell_type": "markdown",
   "metadata": {},
   "source": [
    "In 1992, Deutsch alongside Richard Jozsa **[3]** would propose an improved version known as the Deutsch-Jozsa algorithm, which could take in multiple inputs instead of just one, showcasing the potential of quantum problem solving. **[3]** (https://royalsocietypublishing.org/doi/abs/10.1098/rspa.1992.0167) However, for this notebook we will focus on how the problem was first solved with the original Deutsch's Algorithm."
   ]
  },
  {
   "cell_type": "markdown",
   "metadata": {},
   "source": [
    "## Solution using Deutsch's Algorithm"
   ]
  },
  {
   "cell_type": "markdown",
   "metadata": {},
   "source": [
    "Now that we know the problem, let's discuss how this first alogrithm solved it. First we will need to find a way of knowning if the 'black-box' function returns either a constant or balanced input. We will check this using what's known as Qubits in quantum computing. They act similarly to classical bits in that they're an important part of how information is represented in quantum computing. They also have certain attributes that make them unique from classical bits. The first attribute is called superposition. Imagine you have a classical bit but it can be only be in a state of '1' or '0'. Well that's the benefit of using a qubit over a normal classical bit. It has the ability to be in multiple states at the same time until the qubit is being looked at, causing our qubit to stay in just one state. **[5]** (https://medium.com/@cherkashin/quantum-superposition-decision-making-6a5b49d0286) This is very efficient for handling large quantities of information at any given time which is something we'll need for solving this problem."
   ]
  },
  {
   "cell_type": "markdown",
   "metadata": {},
   "source": [
    "# References"
   ]
  },
  {
   "cell_type": "markdown",
   "metadata": {},
   "source": [
    "[1] IBM, (no date). What is Quantum Computing? Available at https://www.ibm.com/topics/quantum-computing. Accessed on 9th November 2023."
   ]
  },
  {
   "cell_type": "markdown",
   "metadata": {},
   "source": [
    "[2] Deutsch, D., 1985. Quantum theory, the Church–Turing principle and the universal quantum computer. Proceedings of the Royal Society of London. A. Mathematical and Physical Sciences, 400(1818), pp.97-117. Available at https://royalsocietypublishing.org/doi/pdf/10.1098/rspa.1985.0070. Accessed on 13th November 2023."
   ]
  },
  {
   "cell_type": "markdown",
   "metadata": {},
   "source": [
    "[3] Deutsch, D. and Jozsa, R., 1992. Rapid solution of problems by quantum computation. Proceedings of the Royal Society of London. Series A: Mathematical and Physical Sciences, 439(1907), pp.553-558. Available at https://royalsocietypublishing.org/doi/abs/10.1098/rspa.1992.0167 Accessed on 13th November 2023."
   ]
  },
  {
   "cell_type": "markdown",
   "metadata": {},
   "source": [
    "[4] John, W. (no date) Fundamentals of quantum algorithms, IBM Quantum Learning. Available at: https://learning.quantum.ibm.com/course/fundamentals-of-quantum-algorithms/quantum-query-algorithms Accessed on 1st December 2023."
   ]
  },
  {
   "cell_type": "markdown",
   "metadata": {},
   "source": [
    "[5] Cherkashin, P., 2023. Quantum Superposition & Decision-Making, Medium. Available at: https://medium.com/@cherkashin/quantum-superposition-decision-making-6a5b49d0286 Accessed on 7th December 2023."
   ]
  }
 ],
 "metadata": {
  "kernelspec": {
   "display_name": "Python 3",
   "language": "python",
   "name": "python3"
  },
  "language_info": {
   "codemirror_mode": {
    "name": "ipython",
    "version": 3
   },
   "file_extension": ".py",
   "mimetype": "text/x-python",
   "name": "python",
   "nbconvert_exporter": "python",
   "pygments_lexer": "ipython3",
   "version": "3.11.2"
  },
  "orig_nbformat": 4
 },
 "nbformat": 4,
 "nbformat_minor": 2
}
