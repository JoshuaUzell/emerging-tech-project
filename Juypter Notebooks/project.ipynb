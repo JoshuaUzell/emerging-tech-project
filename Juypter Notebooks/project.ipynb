{
 "cells": [
  {
   "cell_type": "markdown",
   "metadata": {},
   "source": [
    "# Deutsch's Algorithm \n",
    "### By Joshua Uzell"
   ]
  },
  {
   "cell_type": "markdown",
   "metadata": {},
   "source": [
    "In the world of quantum computing, there are many different types of problems. One of these is called the parity problem. Whilst on the lower end of difficulty for problems in quantum computing, it's still an interesting enough challenge that evolves around the output of bits, and to see whether we get a constant output or a random balanced output from a function. We can solve this issue using the power of Deutsch's Algorithm. "
   ]
  },
  {
   "cell_type": "markdown",
   "metadata": {},
   "source": [
    "We'll first give a brief overview of quantum computing so we can understand why it's relevant. Then we'll compare quantum computing against classical and then we'll talk about the Deutsch Algorithm, going over the problem it's trying to solve, the solution it provides and then we'll implement that solution using Qiskit by creating a quantum circuit. Lastly we'll run the circuit and see the results before summurizing with our conclusion. Note that the code was created with the aid of Open A.I's ChatGPT with comments and explainations written by myself."
   ]
  },
  {
   "cell_type": "markdown",
   "metadata": {},
   "source": [
    "## Brief overview of quantum computing"
   ]
  },
  {
   "cell_type": "markdown",
   "metadata": {},
   "source": [
    "According to IBM **[1]**, classical computation (everyday computation on computers) is becoming trickier to use for solving specific complex problems due to using old transistors. Supercomputers have been used to try and solve these issues but even then, we will still reach a limit when it comes to very complex issues due to the many different things that can interact with eachother.**[1]** (https://www.ibm.com/topics/quantum-computing)\n",
    "\n",
    "This is why as IBM points out **[1]**, the idea behind quantum computing is to solve those incredibly complicated problems that can't be solved by classical means by using the laws of quantum mechanics.**[1]** This is where the quantum alogrithm known as Deutsch's algorithm comes in. (https://www.ibm.com/topics/quantum-computing)"
   ]
  },
  {
   "cell_type": "markdown",
   "metadata": {},
   "source": [
    "# References"
   ]
  },
  {
   "cell_type": "markdown",
   "metadata": {},
   "source": [
    "[1] IBM, (no date). What is Quantum Computing? Available at https://www.ibm.com/topics/quantum-computing. Accessed on 9th November 2023."
   ]
  }
 ],
 "metadata": {
  "kernelspec": {
   "display_name": "Python 3",
   "language": "python",
   "name": "python3"
  },
  "language_info": {
   "codemirror_mode": {
    "name": "ipython",
    "version": 3
   },
   "file_extension": ".py",
   "mimetype": "text/x-python",
   "name": "python",
   "nbconvert_exporter": "python",
   "pygments_lexer": "ipython3",
   "version": "3.11.2"
  },
  "orig_nbformat": 4
 },
 "nbformat": 4,
 "nbformat_minor": 2
}
