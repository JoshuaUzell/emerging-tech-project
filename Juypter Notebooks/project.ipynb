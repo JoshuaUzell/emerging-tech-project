{
 "cells": [
  {
   "cell_type": "markdown",
   "metadata": {},
   "source": [
    "# Deutsch's Algorithm \n",
    "### By Joshua Uzell"
   ]
  },
  {
   "cell_type": "markdown",
   "metadata": {},
   "source": [
    "In the world of quantum computing, there are many different types of problems. One of these is called the parity problem. Whilst on the lower end of difficulty for problems in quantum computing, it's still an interesting enough challenge that evolves around the output of bits, and to see whether we get a constant output or a random balanced output from a function. We can solve this issue using the power of Deutsch's Algorithm. We'll delve in what it is, how it can solve this issue and we'll run a quantum circuit to see it being simulated."
   ]
  }
 ],
 "metadata": {
  "kernelspec": {
   "display_name": "Python 3",
   "language": "python",
   "name": "python3"
  },
  "language_info": {
   "codemirror_mode": {
    "name": "ipython",
    "version": 3
   },
   "file_extension": ".py",
   "mimetype": "text/x-python",
   "name": "python",
   "nbconvert_exporter": "python",
   "pygments_lexer": "ipython3",
   "version": "3.11.2"
  },
  "orig_nbformat": 4
 },
 "nbformat": 4,
 "nbformat_minor": 2
}
