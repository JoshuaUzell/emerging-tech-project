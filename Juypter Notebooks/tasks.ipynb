{
 "cells": [
  {
   "cell_type": "markdown",
   "metadata": {},
   "source": [
    "# Tasks\n",
    "Below are a list of tasks that I completed over the semester. Note that some of the code presented was written with the aid of Open AI's ChatGPT, though all comments and explainations were written in my own words."
   ]
  },
  {
   "cell_type": "markdown",
   "metadata": {},
   "source": [
    "# Task 1 - The Collatz Conjecture"
   ]
  },
  {
   "cell_type": "markdown",
   "metadata": {},
   "source": [
    "According to **Daniel John Thompson** from the **Royal Australian Chemical Institue**, the **Collatz Conjecture** is a mathematics problem set forth by mathematician **Lothar Collatz** in 1937. It proposes that if you take any whole positive number of type 'n', you can always reduce it down to the number one. This is done via 2 linear equations that either multiply 'n' by 3 and add on 1 if 'n' is odd, or simply divide 'n' by 2 if it's even.**[1] (https://www.ripublication.com/atam22/atamv17n1_01.pdf)** "
   ]
  },
  {
   "cell_type": "markdown",
   "metadata": {},
   "source": [
    "![A defined map of the Collatz Conjecture](image.png)\n",
    "\n",
    "###### *Figure: A defined map of the Collatz Conjecture as shown in Daniel John Thompson's paper [1].*"
   ]
  },
  {
   "cell_type": "markdown",
   "metadata": {},
   "source": [
    "Using python below, we are going to prove that the Collatz Conjecture holds true for the first 10,000 positive integers. Let's take a look."
   ]
  },
  {
   "cell_type": "code",
   "execution_count": 29,
   "metadata": {},
   "outputs": [
    {
     "name": "stdout",
     "output_type": "stream",
     "text": [
      "The Collatz Conjecture holds true for the first 10,000 positive integers.\n"
     ]
    }
   ],
   "source": [
    "def collatz(x):\n",
    "    sequence = [x] #Begin with the sequence's first number\n",
    "    while x != 1:\n",
    "        if x % 2 == 0: #If x is even, divide by 2\n",
    "            x = x // 2\n",
    "        else:\n",
    "            x = 3 * x + 1 #Else if its odd, multiply x by 3 and add 1\n",
    "        sequence.append(x) #Add to sequence array\n",
    "    return sequence #Return the sequence\n",
    "\n",
    "#Check the Collatz Conjecture for the first 10,000 positive integers\n",
    "for i in range(1, 10001): #Loop through the first 10,000 positive integers\n",
    "    sequence = collatz(i) #Pass in each number and return the updated sequence\n",
    "    if 1 not in sequence: #If 1 is not in the sequence, then the Collatz sequence didn't end at 1 which goes against the conjecture.\n",
    "        print(f\"The Collatz Conjecture failed for {i}\")\n",
    "        break\n",
    "else:\n",
    "    print(\"The Collatz Conjecture holds true for the first 10,000 positive integers.\")"
   ]
  },
  {
   "cell_type": "markdown",
   "metadata": {},
   "source": [
    "As you can see, we have successfully proven that the Collatz Conjecture holds true for the first 10,000 positive integers."
   ]
  },
  {
   "cell_type": "markdown",
   "metadata": {},
   "source": [
    "# Task 2 - Square Root Calculation"
   ]
  },
  {
   "cell_type": "markdown",
   "metadata": {},
   "source": [
    "Below we will write a python function to calculate the square root of a number using Newton's method."
   ]
  },
  {
   "cell_type": "code",
   "execution_count": 30,
   "metadata": {},
   "outputs": [
    {
     "name": "stdout",
     "output_type": "stream",
     "text": [
      "2.1213206700707965\n",
      "3.0983866800483297\n",
      "5.31036721921083\n"
     ]
    }
   ],
   "source": [
    "def sqrt(x):\n",
    "    z_zero = 1.0 #This is the initial guess\n",
    "    threshold = 0.01 #Used for checking if the difference between the previous guess and the next guess is less than this value\n",
    "    z = z_zero #initilise z to the initial guess\n",
    "    \n",
    "    while True: #Loop through until the difference is less than the threshold\n",
    "        z_plus_one = z - (z * z - x) / (2 * z)\n",
    "        if abs(z - z_plus_one) < threshold: #If less than the threshold, return the value of the next guess\n",
    "            return z_plus_one\n",
    "        z = z_plus_one #update previous guess with the next guess for the next iteration of the loop\n",
    "\n",
    "#Print out the results of the function 3 different times\n",
    "print(sqrt(4.5))  #This should give a result close to 2.12\n",
    "print(sqrt(9.6))  #A result close to 3.09\n",
    "print(sqrt(28.2))  #A result close to 5.31\n",
    "\n"
   ]
  },
  {
   "cell_type": "markdown",
   "metadata": {},
   "source": [
    "# References"
   ]
  },
  {
   "cell_type": "markdown",
   "metadata": {},
   "source": [
    "[1] Thompson, D.J., 2022. Collatz Conjecture Proof. Advances in Theoretical and Applied Mathematics, 17(1), pp.1-5. Royal Australian Chemical Institute, Melbourne, Australia. ISSN 0973-4554. Available at: https://www.ripublication.com/atam22/atamv17n1_01.pdf. Accessed on 11 October 2023."
   ]
  }
 ],
 "metadata": {
  "kernelspec": {
   "display_name": "Python 3",
   "language": "python",
   "name": "python3"
  },
  "language_info": {
   "codemirror_mode": {
    "name": "ipython",
    "version": 3
   },
   "file_extension": ".py",
   "mimetype": "text/x-python",
   "name": "python",
   "nbconvert_exporter": "python",
   "pygments_lexer": "ipython3",
   "version": "3.11.2"
  },
  "orig_nbformat": 4
 },
 "nbformat": 4,
 "nbformat_minor": 2
}
