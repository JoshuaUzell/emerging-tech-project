{
 "cells": [
  {
   "cell_type": "markdown",
   "metadata": {},
   "source": [
    "# Emerging Tech Tasks\n",
    "### By Joshua Uzell\n",
    "***\n",
    "Below are a list of tasks that I completed over the semester. Note that some of the code presented was written with the aid of Open AI's ChatGPT, though all comments and explainations were written in my own words."
   ]
  },
  {
   "cell_type": "markdown",
   "metadata": {},
   "source": [
    "## Task 1 - The Collatz Conjecture\n",
    "***"
   ]
  },
  {
   "cell_type": "markdown",
   "metadata": {},
   "source": [
    "According to **Daniel John Thompson** from the **Royal Australian Chemical Institue**, the **Collatz Conjecture** is a mathematics problem set forth by mathematician **Lothar Collatz** in 1937. It proposes that if you take any whole positive number of type 'n', you can always reduce it down to the number one. This is done via 2 linear equations that either multiply 'n' by 3 and add on 1 if 'n' is odd, or simply divide 'n' by 2 if it's even. **[1]** (https://www.ripublication.com/atam22/atamv17n1_01.pdf) "
   ]
  },
  {
   "attachments": {
    "image.png": {
     "image/png": "[encoded data removed]"
    }
   },
   "cell_type": "markdown",
   "metadata": {},
   "source": [
    "![image.png](attachment:image.png)"
   ]
  },
  {
   "cell_type": "markdown",
   "metadata": {},
   "source": [
    "<h6>Image of a defined map of the Collatz Conjecture found via <a href=\"https://www.ripublication.com/atam22/atamv17n1_01.pdf\">https://www.ripublication.com/atam22/atamv17n1_01.pdf</a> [1], 2022</h6>"
   ]
  },
  {
   "cell_type": "markdown",
   "metadata": {},
   "source": [
    "Using python below, we are going to prove that the Collatz Conjecture holds true for the first 10,000 positive integers. Let's take a look."
   ]
  },
  {
   "cell_type": "code",
   "execution_count": null,
   "metadata": {},
   "outputs": [],
   "source": [
    "def collatz(x):\n",
    "    sequence = [x] #Begin with the sequence's first number\n",
    "    while x != 1:\n",
    "        if x % 2 == 0: #If x is even, divide by 2\n",
    "            x = x // 2\n",
    "        else:\n",
    "            x = 3 * x + 1 #Else if its odd, multiply x by 3 and add 1\n",
    "        sequence.append(x) #Add to sequence array\n",
    "    return sequence #Return the sequence\n",
    "\n",
    "#Check the Collatz Conjecture for the first 10,000 positive integers\n",
    "for i in range(1, 10001): #Loop through the first 10,000 positive integers\n",
    "    sequence = collatz(i) #Pass in each number and return the updated sequence\n",
    "    if 1 not in sequence: #If 1 is not in the sequence, then the Collatz sequence didn't end at 1 which goes against the conjecture.\n",
    "        print(f\"The Collatz Conjecture failed for {i}\")\n",
    "        break\n",
    "else:\n",
    "    print(\"The Collatz Conjecture holds true for the first 10,000 positive integers.\")"
   ]
  },
  {
   "cell_type": "markdown",
   "metadata": {},
   "source": [
    "As you can see, we have successfully proven that the Collatz Conjecture holds true for the first 10,000 positive integers."
   ]
  },
  {
   "cell_type": "markdown",
   "metadata": {},
   "source": [
    "## Task 2 - Square Root Calculation\n",
    "***"
   ]
  },
  {
   "cell_type": "markdown",
   "metadata": {},
   "source": [
    "For this task we are asked to calculate the square root of a number without the need of a external library such as **'math'** package or the **double operator**. In other words we will be using **Newtons method** to solve this issue. In a MIT paper by **S. G. Johnson**, **Newtons Method** is an algorithm that begins with an inital guess for the square root of a number represented by **x(n)**, which leads to improved guesses over time until we get closer to the actual root of the solution. **[2]**(https://math.mit.edu/~stevenj/18.335/newton-sqrt.pdf)"
   ]
  },
  {
   "cell_type": "markdown",
   "metadata": {},
   "source": [
    "Let's take a look at some python code below for calculating the square root of a floating point number."
   ]
  },
  {
   "cell_type": "code",
   "execution_count": null,
   "metadata": {},
   "outputs": [],
   "source": [
    "def sqrt(x):\n",
    "    z_zero = 1.0 #This is the initial guess\n",
    "    threshold = 0.01 #Used for checking if the difference between the previous guess and the next guess is less than this value\n",
    "    z = z_zero #initilise z to the initial guess\n",
    "    \n",
    "    while True: #Loop through until the difference is less than the threshold\n",
    "        z_plus_one = z - (z * z - x) / (2 * z)\n",
    "        if abs(z - z_plus_one) < threshold: #If less than the threshold, return the value of the next guess\n",
    "            return z_plus_one\n",
    "        z = z_plus_one #update previous guess with the next guess for the next iteration of the loop\n",
    "\n",
    "#Print out the results of the function 3 different times\n",
    "print(sqrt(4.5))  #This should give a result close to 2.12\n",
    "print(sqrt(9.6))  #A result close to 3.09\n",
    "print(sqrt(28.2))  #A result close to 5.31\n",
    "\n"
   ]
  },
  {
   "cell_type": "markdown",
   "metadata": {},
   "source": [
    "## Task 3 - A Functions (Mapping of Inputs to Outputs) Problem\n",
    "***"
   ]
  },
  {
   "cell_type": "markdown",
   "metadata": {},
   "source": [
    "For this task, we are asked to calculate the total number of unique mappings you can create with 4 boolean inputs and 1 boolean output. Since a bit can either be a 1 or 0 (which is 2 options) and there are 4 boolean inputs that could be either one of these bits, we can calculate this as  **2 to the power of 4** which would be 16 possible input mappings. Now since each of those 16 input mappings need to all have an output of either 1 or 0 (again 2 options) we specify this calculation as **2 to the power of 16** which gives us a number of 65,536 unique possible mappings."
   ]
  },
  {
   "cell_type": "markdown",
   "metadata": {},
   "source": [
    "We will create 2 functions. One called create_mapping() that creates a random mapping of 4 input bits (each bit being either a 0 or 1) with 16 possible combinations and gives back a single output of either 0 or 1. The other one called test_mapping() takes the mapping created in the first function, and runs it on all 16 combinations."
   ]
  },
  {
   "cell_type": "code",
   "execution_count": 16,
   "metadata": {},
   "outputs": [],
   "source": [
    "import itertools as it"
   ]
  },
  {
   "cell_type": "code",
   "execution_count": 17,
   "metadata": {},
   "outputs": [],
   "source": [
    "import random"
   ]
  },
  {
   "cell_type": "code",
   "execution_count": 18,
   "metadata": {},
   "outputs": [
    {
     "name": "stdout",
     "output_type": "stream",
     "text": [
      "All the possible mappings with 4 bits as input and a single bit as output:\n",
      "f(0, 0, 0, 0) = 1\n",
      "f(0, 0, 0, 1) = 0\n",
      "f(0, 0, 1, 0) = 0\n",
      "f(0, 0, 1, 1) = 0\n",
      "f(0, 1, 0, 0) = 0\n",
      "f(0, 1, 0, 1) = 0\n",
      "f(0, 1, 1, 0) = 0\n",
      "f(0, 1, 1, 1) = 0\n",
      "f(1, 0, 0, 0) = 0\n",
      "f(1, 0, 0, 1) = 1\n",
      "f(1, 0, 1, 0) = 1\n",
      "f(1, 0, 1, 1) = 1\n",
      "f(1, 1, 0, 0) = 1\n",
      "f(1, 1, 0, 1) = 0\n",
      "f(1, 1, 1, 0) = 0\n",
      "f(1, 1, 1, 1) = 1\n"
     ]
    }
   ],
   "source": [
    "def create_mapping(): #Create a mapping that contains 4 input bits which gives us 16 possible combinations\n",
    "    f_outputs = random.choice(list(it.product((0,1), repeat=2**4)))\n",
    "    def f(a,b,c,d):\n",
    "        i = a * 8 + b * 4 + c * 2 + d * 1 #This is the mapping\n",
    "        return f_outputs[i]\n",
    "    return f # return the mapping f\n",
    "\n",
    "\n",
    "def test_mapping(f):\n",
    "    print(\"All the possible mappings with 4 bits as input and a single bit as output:\")\n",
    "    for a, b, c, d in it.product((0, 1), repeat=4): #Loop through all possible inputs\n",
    "        output = f(a, b, c, d)\n",
    "        print(f\"f({a}, {b}, {c}, {d}) = {output}\")\n",
    "\n",
    "f = create_mapping() #Creates an instance of the function and runs it\n",
    "test_mapping(f) #Just tells you what the function is"
   ]
  },
  {
   "cell_type": "markdown",
   "metadata": {},
   "source": [
    "## Task 4 - Matrix Multiplication\n",
    "***"
   ]
  },
  {
   "cell_type": "markdown",
   "metadata": {},
   "source": [
    "This task requires us to create a function that performs matrix multiplication on 2 rectangular lists (that we will call matrix A and B) that include floating point numbers. We first get the number of rows and columns from both matrix A and B. Then we check if the number of columns in matrix A matches the number of rows in matrix B. We then do a dot product calculation by multiplying rows of A to the columns of B and adding each multiplication result together to get our third resulting matrix."
   ]
  },
  {
   "cell_type": "markdown",
   "metadata": {},
   "source": [
    "We could use the NumPy library to efficiently perform this calculation but we'll do the manual way this time to get a better understanding of the calculation. "
   ]
  },
  {
   "cell_type": "code",
   "execution_count": 19,
   "metadata": {},
   "outputs": [],
   "source": [
    "def multiply_matrices(A, B):\n",
    "    #Below represents the number of rows and columns in each matrix\n",
    "    rows_A = len(A)\n",
    "    cols_A = len(A[0])\n",
    "    rows_B = len(B)\n",
    "    cols_B = len(B[0])\n",
    "\n",
    "    #We check if the number of columns in matrix A match the number of rows in matrix B\n",
    "    #so we can perform our matrix multiplication\n",
    "    if cols_A != rows_B:\n",
    "        raise ValueError(\"Ran into error. The number of columns in matrix A must be equal to number of rows in column B\")\n",
    "\n",
    "    #We fill out a matrix with zeros. This matrix will store the results of our matrix multiplication\n",
    "    result = [[0 for _ in range(cols_B)] for _ in range(rows_A)]\n",
    "\n",
    "    #We perform our matrices multiplication here\n",
    "    for i in range(rows_A):\n",
    "        for j in range(cols_B):\n",
    "            for k in range(cols_A):\n",
    "                result[i][j] += A[i][k] * B[k][j]\n",
    "\n",
    "    return result #Return the resulting matrix\n"
   ]
  },
  {
   "cell_type": "code",
   "execution_count": 20,
   "metadata": {},
   "outputs": [
    {
     "name": "stdout",
     "output_type": "stream",
     "text": [
      "Our third matrix is \n",
      "[[58.0, 64.0], [139.0, 154.0]]\n"
     ]
    }
   ],
   "source": [
    "#Matrix A\n",
    "A = [[1.0, 2.0, 3.0],\n",
    "     [4.0, 5.0, 6.0]]\n",
    "\n",
    "#Matrix B\n",
    "B = [[7.0, 8.0],\n",
    "     [9.0, 10.0],\n",
    "     [11.0, 12.0]]\n",
    "\n",
    "#Return the resulting third matrix\n",
    "matrixResult = multiply_matrices(A,B)\n",
    "print(\"Our third matrix is \")\n",
    "print(matrixResult)"
   ]
  },
  {
   "cell_type": "markdown",
   "metadata": {},
   "source": [
    "## References\n",
    "***"
   ]
  },
  {
   "cell_type": "markdown",
   "metadata": {},
   "source": [
    "[1] Thompson, D.J., 2022. Collatz Conjecture Proof. Advances in Theoretical and Applied Mathematics, 17(1), pp.1-5. Royal Australian Chemical Institute, Melbourne, Australia. ISSN 0973-4554. Available at: https://www.ripublication.com/atam22/atamv17n1_01.pdf. Accessed on 11th October 2023."
   ]
  },
  {
   "cell_type": "markdown",
   "metadata": {},
   "source": [
    "[2] Johnson, S.G., 2015. Square Roots via Newton’s Method. MIT Course 18.335. Available at: https://math.mit.edu/~stevenj/18.335/newton-sqrt.pdf. Accessed on 11th October 2023."
   ]
  },
  {
   "cell_type": "markdown",
   "metadata": {},
   "source": [
    "***\n",
    "## End of Notebook"
   ]
  }
 ],
 "metadata": {
  "kernelspec": {
   "display_name": "Python 3",
   "language": "python",
   "name": "python3"
  },
  "language_info": {
   "codemirror_mode": {
    "name": "ipython",
    "version": 3
   },
   "file_extension": ".py",
   "mimetype": "text/x-python",
   "name": "python",
   "nbconvert_exporter": "python",
   "pygments_lexer": "ipython3",
   "version": "3.11.2"
  },
  "orig_nbformat": 4
 },
 "nbformat": 4,
 "nbformat_minor": 2
}
