{
 "cells": [
  {
   "cell_type": "markdown",
   "metadata": {},
   "source": [
    "# Task 1 - The Collatz Conjecture"
   ]
  },
  {
   "cell_type": "markdown",
   "metadata": {},
   "source": [
    "For this task we are going to prove whether or not the Collatz Conjecture holds true for the first 10,000 positive integers. Let's take a look below."
   ]
  },
  {
   "cell_type": "code",
   "execution_count": 18,
   "metadata": {},
   "outputs": [
    {
     "name": "stdout",
     "output_type": "stream",
     "text": [
      "The Collatz Conjecture holds true for the first 10,000 positive integers.\n"
     ]
    }
   ],
   "source": [
    "def collatz(x):\n",
    "    sequence = [x] #Starts with the first number in the sequence\n",
    "    while x != 1:\n",
    "        if x % 2 == 0: #If x is even, divide by 2\n",
    "            x = x // 2\n",
    "        else:\n",
    "            x = 3 * x + 1 #Else if its odd, multiply x by 3 and add 1\n",
    "        sequence.append(x) #Add to sequence array\n",
    "    return sequence #Return the sequence\n",
    "\n",
    "# Check the Collatz Conjecture for the first 10,000 positive integers\n",
    "for i in range(1, 10001): #Loop through the first 10,000 positive integers\n",
    "    sequence = collatz(i) #Pass in each number and return the updated sequence\n",
    "    if 1 not in sequence: #If 1 is not in the sequence, then the Collatz sequence didn't end at 1 which goes against the conjecture.\n",
    "        print(f\"The Collatz Conjecture failed for {i}\")\n",
    "        break\n",
    "else:\n",
    "    print(\"The Collatz Conjecture holds true for the first 10,000 positive integers.\")"
   ]
  },
  {
   "cell_type": "markdown",
   "metadata": {},
   "source": [
    "As you can see, we have successfully proven that the Collatz Conjecture holds true for the first 10,000 positive integers."
   ]
  }
 ],
 "metadata": {
  "kernelspec": {
   "display_name": "Python 3",
   "language": "python",
   "name": "python3"
  },
  "language_info": {
   "codemirror_mode": {
    "name": "ipython",
    "version": 3
   },
   "file_extension": ".py",
   "mimetype": "text/x-python",
   "name": "python",
   "nbconvert_exporter": "python",
   "pygments_lexer": "ipython3",
   "version": "3.11.2"
  },
  "orig_nbformat": 4
 },
 "nbformat": 4,
 "nbformat_minor": 2
}
